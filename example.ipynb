{
 "cells": [
  {
   "cell_type": "code",
   "execution_count": 1,
   "id": "bd41055e",
   "metadata": {},
   "outputs": [],
   "source": [
    "from Hilbertus import Hilbert2D, Hilbert3D"
   ]
  },
  {
   "cell_type": "markdown",
   "id": "08f46e7f",
   "metadata": {},
   "source": [
    "2D Hilbert výpočty"
   ]
  },
  {
   "cell_type": "code",
   "execution_count": 2,
   "id": "df2136a2",
   "metadata": {},
   "outputs": [
    {
     "name": "stdout",
     "output_type": "stream",
     "text": [
      "Quarter Q: [0, 3, 0, 3, 0, 3, 0, 3, 0, 3, 0, 3, 0, 3, 0]\n",
      "Calculated point: [[0.20001221]\n",
      " [0.40002441]]\n"
     ]
    }
   ],
   "source": [
    "# --- 2D detailní test ---\n",
    "h2d = Hilbert2D(15)\n",
    "\n",
    "Q = h2d.dec_to_quarter(0.2)\n",
    "print(\"Quarter Q:\", Q)\n",
    "\n",
    "e0, dj = h2d.ej_and_dj_counter(Q)\n",
    "result = h2d.calculate_point(e0, dj, Q)\n",
    "print(\"Calculated point:\", result)\n"
   ]
  },
  {
   "cell_type": "code",
   "execution_count": 3,
   "id": "d4351c08",
   "metadata": {},
   "outputs": [
    {
     "name": "stdout",
     "output_type": "stream",
     "text": [
      "e0: [0. 0. 1.]\n",
      "dj: [0. 0. 1.]\n",
      "Point from [2,0,3]: [[0.625]\n",
      " [0.75 ]]\n"
     ]
    }
   ],
   "source": [
    "# test s vlastním polem\n",
    "h = [2, 0, 3]\n",
    "e0, dj = h2d.ej_and_dj_counter(h)\n",
    "print(\"e0:\", e0)\n",
    "print(\"dj:\", dj)\n",
    "\n",
    "result = h2d.calculate_point(e0, dj, h)\n",
    "print(\"Point from [2,0,3]:\", result)"
   ]
  },
  {
   "cell_type": "markdown",
   "id": "4a26dc69",
   "metadata": {},
   "source": [
    "2D Hilbert minima"
   ]
  },
  {
   "cell_type": "code",
   "execution_count": 42,
   "id": "32bafa35",
   "metadata": {},
   "outputs": [
    {
     "name": "stdout",
     "output_type": "stream",
     "text": [
      "precision=  4  =>  t = 0.502693,  h(t) = (0.5000, 0.5000),  f = 0.000000\n",
      "precision=  6  =>  t = 0.500075,  h(t) = (0.5000, 0.5000),  f = 0.000000\n",
      "precision=  8  =>  t = 0.500915,  h(t) = (0.5195, 0.5000),  f = 0.000381\n",
      "precision= 10  =>  t = 0.500014,  h(t) = (0.5010, 0.5029),  f = 0.000010\n",
      "precision=150  =>  t = 0.500000,  h(t) = (0.4999, 0.5000),  f = 0.000000\n",
      "precision=1000  =>  t = 0.500000,  h(t) = (0.4999, 0.5000),  f = 0.000000\n"
     ]
    }
   ],
   "source": [
    "\n",
    "for p in [4, 6, 8, 10, 150, 1000]:\n",
    "    h2d = Hilbert2D(p)\n",
    "    t_min, h_min, f_min = h2d.find_minimum()\n",
    "    print(f\"precision={p:3d}  =>  t = {t_min:.6f},  h(t) = ({h_min[0]:.4f}, {h_min[1]:.4f}),  f = {f_min:.6f}\")"
   ]
  },
  {
   "cell_type": "markdown",
   "id": "2775f9c5",
   "metadata": {},
   "source": [
    "2D Hilbert min s Holder. alg."
   ]
  },
  {
   "cell_type": "code",
   "execution_count": 45,
   "id": "4ec34ba7",
   "metadata": {},
   "outputs": [
    {
     "name": "stdout",
     "output_type": "stream",
     "text": [
      "Iterace: 100\n",
      "  Minimální t: 0.16687188882402035\n",
      "  Souřadnice (x,y): (0.47597865387797356, 0.49091828241944313)\n",
      "  Hodnota f: 0.0006595026637271906\n",
      "----------------------------------------\n",
      "Iterace: 300\n",
      "  Minimální t: 0.16687188882402035\n",
      "  Souřadnice (x,y): (0.47597865387797356, 0.49091828241944313)\n",
      "  Hodnota f: 0.0006595026637271906\n",
      "----------------------------------------\n",
      "Iterace: 600\n",
      "  Minimální t: 0.4997648399665348\n",
      "  Souřadnice (x,y): (0.49611131846904755, 0.5131976380944252)\n",
      "  Hodnota f: 0.00018929949532059398\n",
      "----------------------------------------\n",
      "Iterace: 1200\n",
      "  Minimální t: 0.16667488480434287\n",
      "  Souřadnice (x,y): (0.49528950080275536, 0.4987020380795002)\n",
      "  Hodnota f: 2.387350783430997e-05\n",
      "----------------------------------------\n",
      "Iterace: 2000\n",
      "  Minimální t: 0.8333288736096914\n",
      "  Souřadnice (x,y): (0.5030336603522301, 0.49911779910326004)\n",
      "  Hodnota f: 9.981373554901474e-06\n",
      "----------------------------------------\n"
     ]
    }
   ],
   "source": [
    "h2d = Hilbert2D(50)\n",
    "\n",
    "# parametry\n",
    "H = 2 * 1.4142 * 5**(1/2)   # Lipschitz/Hölder odhad\n",
    "r = 1.2\n",
    "eps = 1e-3\n",
    "iterace_list = [100, 300, 600, 1200, 2000]  # různé počty iterací\n",
    "\n",
    "for max_iter in iterace_list:\n",
    "    t_min, f_min, x_min, y_min = h2d.Holder_algorithm(H, r, eps, max_iter)\n",
    "    print(f\"Iterace: {max_iter}\")\n",
    "    print(f\"  Minimální t: {t_min}\")\n",
    "    print(f\"  Souřadnice (x,y): ({x_min}, {y_min})\")\n",
    "    print(f\"  Hodnota f: {f_min}\")\n",
    "    print(\"-\" * 40)"
   ]
  },
  {
   "cell_type": "markdown",
   "id": "9273b23e",
   "metadata": {},
   "source": [
    "3D Hilbert"
   ]
  },
  {
   "cell_type": "code",
   "execution_count": 6,
   "id": "d920ef94",
   "metadata": {},
   "outputs": [
    {
     "name": "stdout",
     "output_type": "stream",
     "text": [
      "Octal L: [1, 4, 6, 3, 1, 4, 6, 3, 1, 4, 6, 3, 1, 4, 6]\n",
      "3D result: [0.625 0.75  0.125]\n"
     ]
    }
   ],
   "source": [
    "h3d = Hilbert3D()\n",
    "\n",
    "# Vytvoření instance 2D jen pro konverzi (octal)\n",
    "h2d_converter = Hilbert2D(precision=15)\n",
    "L = h2d_converter.dec_to_octal(0.2)\n",
    "print(\"Octal L:\", L)\n",
    "\n",
    "h = [2, 0, 6]\n",
    "result = h3d.ThreeD_Hilbert(h)\n",
    "print(\"3D result:\", result)\n",
    "\n",
    "\n"
   ]
  }
 ],
 "metadata": {
  "kernelspec": {
   "display_name": "Python 3",
   "language": "python",
   "name": "python3"
  },
  "language_info": {
   "codemirror_mode": {
    "name": "ipython",
    "version": 3
   },
   "file_extension": ".py",
   "mimetype": "text/x-python",
   "name": "python",
   "nbconvert_exporter": "python",
   "pygments_lexer": "ipython3",
   "version": "3.10.12"
  }
 },
 "nbformat": 4,
 "nbformat_minor": 5
}
